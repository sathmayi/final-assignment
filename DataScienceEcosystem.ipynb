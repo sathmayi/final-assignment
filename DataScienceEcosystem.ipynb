{
  "metadata": {
    "kernelspec": {
      "name": "python",
      "display_name": "Python (Pyodide)",
      "language": "python"
    },
    "language_info": {
      "codemirror_mode": {
        "name": "python",
        "version": 3
      },
      "file_extension": ".py",
      "mimetype": "text/x-python",
      "name": "python",
      "nbconvert_exporter": "python",
      "pygments_lexer": "ipython3",
      "version": "3.8"
    }
  },
  "nbformat_minor": 5,
  "nbformat": 4,
  "cells": [
    {
      "id": "52ea5a7e-30c4-4cfb-8100-d36273f4a363",
      "cell_type": "markdown",
      "source": "# Data Science Tools and Ecosystem",
      "metadata": {}
    },
    {
      "id": "f4a55a12-1e5a-45bd-a826-b8ef9859970c",
      "cell_type": "markdown",
      "source": "In this notebook, Data Science Tools and Ecosystem are summarized.",
      "metadata": {}
    },
    {
      "id": "05132e6a-4cda-47ed-8101-f687305b4a31",
      "cell_type": "markdown",
      "source": "**Objectives:**\n- List of popular languages that Data Scientists use\n- List of commonly used libraries by Data Scientists\n- List of Data Science Tools\n- Examples of evaluating arithmetic expressions in Python\n- Converting 200 minutes to hours in Python",
      "metadata": {}
    },
    {
      "id": "a3fad2fb-56e5-4821-abe8-5731b748ba70",
      "cell_type": "markdown",
      "source": "Some of the popular languages that Data Scientists use are:\n1. Python\n2. Java\n3. Julia",
      "metadata": {}
    },
    {
      "id": "5872c1be-134a-4e64-aaf7-ce3b07d85070",
      "cell_type": "markdown",
      "source": "Some of the commonly used libraries used by Data Scientists include:\n1. NumPy\n2. Matplotlib\n3. Pandas",
      "metadata": {}
    },
    {
      "id": "38e2a0fa-4042-4dad-952c-cb17ca86b3af",
      "cell_type": "markdown",
      "source": "|Data Science Tools|\n|------------------|\n|Visual Studio Code|\n|Jupyter Notebook|\n|RStudio|",
      "metadata": {}
    },
    {
      "id": "9cf4bb70-e875-48d6-bc3e-54bbf11607ae",
      "cell_type": "markdown",
      "source": "### Below are a few examples of evaluating arithmetic expressions in Python",
      "metadata": {}
    },
    {
      "id": "3c7cb6d8-df38-4009-af4f-2a303cb4cc21",
      "cell_type": "code",
      "source": "#This a simple arithmetic expression to mutiply then add integers\n(3*4)+5",
      "metadata": {
        "trusted": true
      },
      "outputs": [
        {
          "execution_count": 2,
          "output_type": "execute_result",
          "data": {
            "text/plain": "17"
          },
          "metadata": {}
        }
      ],
      "execution_count": 2
    },
    {
      "id": "aba9833a-7f95-436c-88ea-9acd18c1b451",
      "cell_type": "code",
      "source": "#This will convert 200 minutes to hours by diving by 60\nminutes=200\nhours=200/60\nprint(\"200 minutes is\", hours, \"hours.\")",
      "metadata": {
        "trusted": true
      },
      "outputs": [
        {
          "name": "stdout",
          "output_type": "stream",
          "text": "200 minutes is 3.3333333333333335 hours.\n"
        }
      ],
      "execution_count": 3
    },
    {
      "id": "4c1951cc-deba-4b74-a2c6-80b4d665c34a",
      "cell_type": "markdown",
      "source": "## Author\n\nSathmayi",
      "metadata": {}
    },
    {
      "id": "a6e4062c-d953-4af1-8a88-2e428f25ef83",
      "cell_type": "code",
      "source": "",
      "metadata": {
        "trusted": true
      },
      "outputs": [],
      "execution_count": null
    }
  ]
}